{
  "nbformat": 4,
  "nbformat_minor": 0,
  "metadata": {
    "colab": {
      "provenance": [],
      "authorship_tag": "ABX9TyPtnm9t7wzFBMhghEvkubHh",
      "include_colab_link": true
    },
    "kernelspec": {
      "name": "python3",
      "display_name": "Python 3"
    },
    "language_info": {
      "name": "python"
    }
  },
  "cells": [
    {
      "cell_type": "markdown",
      "metadata": {
        "id": "view-in-github",
        "colab_type": "text"
      },
      "source": [
        "<a href=\"https://colab.research.google.com/github/asa338/python-coding-practice/blob/main/python_leetcode_practice.ipynb\" target=\"_parent\"><img src=\"https://colab.research.google.com/assets/colab-badge.svg\" alt=\"Open In Colab\"/></a>"
      ]
    },
    {
      "cell_type": "markdown",
      "source": [
        "75. Sort Colors Problem\n",
        "\n",
        "> \n",
        "\n",
        "https://leetcode.com/problems/sort-colors/description/"
      ],
      "metadata": {
        "id": "IIIfpJsC9nzp"
      }
    },
    {
      "cell_type": "code",
      "source": [
        "class Solution:\n",
        "    def sortColors(self, nums: List[int]) -> None:\n",
        "        white_count= nums.count(1)\n",
        "        blue_count= nums.count(2)\n",
        "        red_count= nums.count(0)\n",
        "\n",
        "        for x in range(len(nums)):\n",
        "            if red_count>0:\n",
        "                nums[x]=0\n",
        "                red_count-=1\n",
        "            elif white_count>0:\n",
        "                nums[x]=1\n",
        "                white_count-=1\n",
        "            elif blue_count>0:\n",
        "                nums[x]=2\n",
        "                blue_count-=1"
      ],
      "metadata": {
        "id": "jrOcTn8G99z0"
      },
      "execution_count": null,
      "outputs": []
    },
    {
      "cell_type": "markdown",
      "source": [
        "\n",
        "\n",
        "771. Jewels and Stones \\\n",
        "https://leetcode.com/problems/jewels-and-stones/description/\n",
        "\n",
        "\n"
      ],
      "metadata": {
        "id": "33byA3x7X8Kt"
      }
    },
    {
      "cell_type": "code",
      "source": [
        "class Solution:\n",
        "    def numJewelsInStones(self, jewels: str, stones: str) -> int:\n",
        "        counter=0\n",
        "        for stone in stones:\n",
        "            if stone in jewels:\n",
        "                counter+=1\n",
        "        return counter"
      ],
      "metadata": {
        "id": "QLNjEVJb-BLf"
      },
      "execution_count": null,
      "outputs": []
    },
    {
      "cell_type": "markdown",
      "source": [
        "**66. Plus One with step by step explanation** \\\n",
        "https://leetcode.com/problems/plus-one/solutions/3180739/66-plus-one-with-step-by-step-explanation/"
      ],
      "metadata": {
        "id": "Up_ohhfp44rw"
      }
    },
    {
      "cell_type": "code",
      "source": [
        "class Solution:\n",
        "    def plusOne(self, digits: List[int]) -> List[int]:\n",
        "       n=len(digits)\n",
        "\n",
        "       for d in range(n-1,-1,-1):\n",
        "           if digits[d]<9:\n",
        "               digits[d]+=1\n",
        "               return digits\n",
        "           digits[d]=0\n",
        "\n",
        "       digits.insert(0,1)\n",
        "       return digits"
      ],
      "metadata": {
        "id": "YnSZllB_47Ss"
      },
      "execution_count": null,
      "outputs": []
    }
  ]
}