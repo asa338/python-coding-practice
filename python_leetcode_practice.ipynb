{
  "nbformat": 4,
  "nbformat_minor": 0,
  "metadata": {
    "colab": {
      "provenance": [],
      "authorship_tag": "ABX9TyN/rzoQ6e8kmwk2u+FEevJC",
      "include_colab_link": true
    },
    "kernelspec": {
      "name": "python3",
      "display_name": "Python 3"
    },
    "language_info": {
      "name": "python"
    }
  },
  "cells": [
    {
      "cell_type": "markdown",
      "metadata": {
        "id": "view-in-github",
        "colab_type": "text"
      },
      "source": [
        "<a href=\"https://colab.research.google.com/github/asa338/python-coding-practice/blob/main/python_leetcode_practice.ipynb\" target=\"_parent\"><img src=\"https://colab.research.google.com/assets/colab-badge.svg\" alt=\"Open In Colab\"/></a>"
      ]
    },
    {
      "cell_type": "markdown",
      "source": [
        "75. Sort Colors Problem\n",
        "\n",
        "> \n",
        "\n",
        "https://leetcode.com/problems/sort-colors/description/"
      ],
      "metadata": {
        "id": "IIIfpJsC9nzp"
      }
    },
    {
      "cell_type": "code",
      "source": [
        "class Solution:\n",
        "    def sortColors(self, nums: List[int]) -> None:\n",
        "        white_count= nums.count(1)\n",
        "        blue_count= nums.count(2)\n",
        "        red_count= nums.count(0)\n",
        "\n",
        "        for x in range(len(nums)):\n",
        "            if red_count>0:\n",
        "                nums[x]=0\n",
        "                red_count-=1\n",
        "            elif white_count>0:\n",
        "                nums[x]=1\n",
        "                white_count-=1\n",
        "            elif blue_count>0:\n",
        "                nums[x]=2\n",
        "                blue_count-=1"
      ],
      "metadata": {
        "id": "jrOcTn8G99z0"
      },
      "execution_count": null,
      "outputs": []
    },
    {
      "cell_type": "code",
      "source": [],
      "metadata": {
        "id": "QLNjEVJb-BLf"
      },
      "execution_count": null,
      "outputs": []
    }
  ]
}