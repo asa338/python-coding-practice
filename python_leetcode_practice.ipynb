{
  "nbformat": 4,
  "nbformat_minor": 0,
  "metadata": {
    "colab": {
      "provenance": [],
      "authorship_tag": "ABX9TyPWKdRJO2groJ0MDAimGhqQ",
      "include_colab_link": true
    },
    "kernelspec": {
      "name": "python3",
      "display_name": "Python 3"
    },
    "language_info": {
      "name": "python"
    }
  },
  "cells": [
    {
      "cell_type": "markdown",
      "metadata": {
        "id": "view-in-github",
        "colab_type": "text"
      },
      "source": [
        "<a href=\"https://colab.research.google.com/github/asa338/python-coding-practice/blob/main/python_leetcode_practice.ipynb\" target=\"_parent\"><img src=\"https://colab.research.google.com/assets/colab-badge.svg\" alt=\"Open In Colab\"/></a>"
      ]
    },
    {
      "cell_type": "markdown",
      "source": [
        "75. Sort Colors Problem\n",
        "\n",
        "> \n",
        "\n",
        "https://leetcode.com/problems/sort-colors/description/"
      ],
      "metadata": {
        "id": "IIIfpJsC9nzp"
      }
    },
    {
      "cell_type": "code",
      "source": [
        "class Solution:\n",
        "    def sortColors(self, nums: List[int]) -> None:\n",
        "        white_count= nums.count(1)\n",
        "        blue_count= nums.count(2)\n",
        "        red_count= nums.count(0)\n",
        "\n",
        "        for x in range(len(nums)):\n",
        "            if red_count>0:\n",
        "                nums[x]=0\n",
        "                red_count-=1\n",
        "            elif white_count>0:\n",
        "                nums[x]=1\n",
        "                white_count-=1\n",
        "            elif blue_count>0:\n",
        "                nums[x]=2\n",
        "                blue_count-=1"
      ],
      "metadata": {
        "id": "jrOcTn8G99z0"
      },
      "execution_count": null,
      "outputs": []
    },
    {
      "cell_type": "markdown",
      "source": [
        "\n",
        "\n",
        "771. Jewels and Stones \\\n",
        "https://leetcode.com/problems/jewels-and-stones/description/\n",
        "\n",
        "\n"
      ],
      "metadata": {
        "id": "33byA3x7X8Kt"
      }
    },
    {
      "cell_type": "code",
      "source": [
        "class Solution:\n",
        "    def numJewelsInStones(self, jewels: str, stones: str) -> int:\n",
        "        counter=0\n",
        "        for stone in stones:\n",
        "            if stone in jewels:\n",
        "                counter+=1\n",
        "        return counter"
      ],
      "metadata": {
        "id": "QLNjEVJb-BLf"
      },
      "execution_count": null,
      "outputs": []
    },
    {
      "cell_type": "markdown",
      "source": [
        "**66. Plus One with step by step explanation** \\\n",
        "https://leetcode.com/problems/plus-one/solutions/3180739/66-plus-one-with-step-by-step-explanation/"
      ],
      "metadata": {
        "id": "Up_ohhfp44rw"
      }
    },
    {
      "cell_type": "code",
      "source": [
        "class Solution:\n",
        "    def plusOne(self, digits: List[int]) -> List[int]:\n",
        "       n=len(digits)\n",
        "\n",
        "       for d in range(n-1,-1,-1):\n",
        "           if digits[d]<9:\n",
        "               digits[d]+=1\n",
        "               return digits\n",
        "           digits[d]=0\n",
        "\n",
        "       digits.insert(0,1)\n",
        "       return digits"
      ],
      "metadata": {
        "id": "YnSZllB_47Ss"
      },
      "execution_count": null,
      "outputs": []
    },
    {
      "cell_type": "markdown",
      "source": [
        "**389. Find the Difference**\\\n",
        "https://leetcode.com/problems/find-the-difference/description/\n"
      ],
      "metadata": {
        "id": "dWfUC93KxTFm"
      }
    },
    {
      "cell_type": "code",
      "source": [
        "class Solution:\n",
        "    def findTheDifference(self, s: str, t: str) -> str:\n",
        "        for i in t:\n",
        "            if s.count(i) != t.count(i): return i"
      ],
      "metadata": {
        "id": "XPNRL2FQxUe0"
      },
      "execution_count": null,
      "outputs": []
    },
    {
      "cell_type": "markdown",
      "source": [
        "**268. Missing Number** \\\n",
        " https://leetcode.com/problems/missing-number/description/\n"
      ],
      "metadata": {
        "id": "bDru9LEuF4Bj"
      }
    },
    {
      "cell_type": "code",
      "source": [
        "class Solution:\n",
        "    def missingNumber(self, nums: List[int]) -> int:\n",
        "        num_len=len(nums)\n",
        "        counter=0\n",
        "        for i in range(num_len):\n",
        "            if i not in nums:\n",
        "                return i\n",
        "        return num_len\n",
        "            "
      ],
      "metadata": {
        "id": "YVn3D05hF5Xu"
      },
      "execution_count": null,
      "outputs": []
    },
    {
      "cell_type": "markdown",
      "source": [
        "**387. First Unique Character in a String**\\\n",
        "https://leetcode.com/problems/first-unique-character-in-a-string/"
      ],
      "metadata": {
        "id": "Q4E8c4-RqmuQ"
      }
    },
    {
      "cell_type": "code",
      "source": [
        "class Solution:\n",
        "    def firstUniqChar(self, s: str) -> int:\n",
        "        for i in s:\n",
        "            if s.count(i)== 1:\n",
        "                return s.index(i)\n",
        "        return -1\n"
      ],
      "metadata": {
        "id": "74y4JsB3qnGi"
      },
      "execution_count": null,
      "outputs": []
    }
  ]
}