{
  "nbformat": 4,
  "nbformat_minor": 0,
  "metadata": {
    "colab": {
      "provenance": [],
      "authorship_tag": "ABX9TyMuefWaqIFc8Ln23SwrXYK0",
      "include_colab_link": true
    },
    "kernelspec": {
      "name": "python3",
      "display_name": "Python 3"
    },
    "language_info": {
      "name": "python"
    }
  },
  "cells": [
    {
      "cell_type": "markdown",
      "metadata": {
        "id": "view-in-github",
        "colab_type": "text"
      },
      "source": [
        "<a href=\"https://colab.research.google.com/github/asa338/python-coding-practice/blob/main/python_leetcode_practice_2.ipynb\" target=\"_parent\"><img src=\"https://colab.research.google.com/assets/colab-badge.svg\" alt=\"Open In Colab\"/></a>"
      ]
    },
    {
      "cell_type": "markdown",
      "source": [
        "**88. Merge Sorted Array** \\\n",
        " https://leetcode.com/problems/merge-sorted-array/description/"
      ],
      "metadata": {
        "id": "uTGuP8KH8o4B"
      }
    },
    {
      "cell_type": "code",
      "execution_count": null,
      "metadata": {
        "id": "PIBW4orN8n6g"
      },
      "outputs": [],
      "source": [
        "class Solution:\n",
        "    def merge(self, nums1: List[int], m: int, nums2: List[int], n: int) -> None:\n",
        "        \"\"\"\n",
        "        Do not return anything, modify nums1 in-place instead.\n",
        "        \"\"\"\n",
        "        for i in range(m,m+n):\n",
        "            nums1[i]=nums2[i-m]\n",
        "        nums1.sort()"
      ]
    },
    {
      "cell_type": "markdown",
      "source": [
        "**171. Excel Sheet Column Number**\\\n",
        "https://leetcode.com/problems/excel-sheet-column-number/description/"
      ],
      "metadata": {
        "id": "gnXG1ynHPrgR"
      }
    },
    {
      "cell_type": "code",
      "source": [
        "class Solution:\n",
        "    def titleToNumber(self, columnTitle: str) -> int:\n",
        "        ans = 0\n",
        "        for char in columnTitle:\n",
        "            # Convert the character to its corresponding numeric value\n",
        "            value = ord(char) - ord('A') + 1\n",
        "            # Update the result by multiplying it with 26 and adding the current value\n",
        "            ans = ans * 26 + value\n",
        "        return ans"
      ],
      "metadata": {
        "id": "j3uzGA4-80vo"
      },
      "execution_count": null,
      "outputs": []
    }
  ]
}